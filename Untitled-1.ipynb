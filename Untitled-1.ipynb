{
 "cells": [
  {
   "cell_type": "code",
   "execution_count": 1,
   "source": [
    "import time\n",
    "import pandas as pd\n",
    "import requests\n",
    "import os\n",
    "\n",
    "ORDER_BOOK_URL = 'https://api.upbit.com/v1/orderbook'\n",
    "\n",
    "market = 'KRW-BTC'\n",
    "\n",
    "filename = f'order_book_{market}.xlsx'\n",
    "\n",
    "def get_order_book(market):\n",
    "    url = f'{ORDER_BOOK_URL}?markets={market}'\n",
    "    response = requests.get(url)\n",
    "    data = response.json()\n",
    "    return data[0]\n",
    "\n",
    "def record_order_book(market):\n",
    "    while True:\n",
    "        try:\n",
    "            order_book = get_order_book(market)\n",
    "\n",
    "            bids = order_book['orderbook_units'][0]['bid_price']\n",
    "            bid_sizes = order_book['orderbook_units'][0]['bid_size']\n",
    "            asks = order_book['orderbook_units'][0]['ask_price']\n",
    "            ask_sizes = order_book['orderbook_units'][0]['ask_size']\n",
    "\n",
    "            if isinstance(bids, float):\n",
    "                bids = [bids]\n",
    "                bid_sizes = [bid_sizes]\n",
    "            if isinstance(asks, float):\n",
    "                asks = [asks]\n",
    "                ask_sizes = [ask_sizes]\n",
    "\n",
    "            bid_types = ['bid'] * len(bids)\n",
    "            ask_types = ['ask'] * len(asks)\n",
    "            timestamp = [order_book['timestamp']] * (len(bids) + len(asks))\n",
    "\n",
    "            max_length = max(len(bids), len(asks))\n",
    "            bids = bids + [None] * (max_length - len(bids))\n",
    "            bid_sizes = bid_sizes + [None] * (max_length - len(bid_sizes))\n",
    "            asks = asks + [None] * (max_length - len(asks))\n",
    "            ask_sizes = ask_sizes + [None] * (max_length - len(ask_sizes))\n",
    "            bid_types = bid_types + [None] * (max_length - len(bid_types))\n",
    "            ask_types = ask_types + [None] * (max_length - len(ask_types))\n",
    "            timestamp = timestamp + [None] * (max_length - len(timestamp))\n",
    "\n",
    "            order_book_data = pd.DataFrame({\n",
    "                'Type': bid_types + ask_types,\n",
    "                'Price': bids + asks,\n",
    "                'Quantity': bid_sizes + ask_sizes,\n",
    "                'Timestamp': timestamp\n",
    "            })\n",
    "\n",
    "            if os.path.isfile(filename):\n",
    "                book = pd.read_excel(filename)\n",
    "                combined_data = pd.concat([book, order_book_data])\n",
    "                combined_data.to_excel(filename, index=False)\n",
    "            else:\n",
    "                order_book_data.to_excel(filename, index=False, header=True)\n",
    "\n",
    "            time.sleep(5)\n",
    "\n",
    "        except Exception as e:\n",
    "            print(f\"An error occurred: {str(e)}\")\n",
    "\n",
    "record_order_book(market)"
   ],
   "outputs": [
    {
     "output_type": "error",
     "ename": "KeyboardInterrupt",
     "evalue": "",
     "traceback": [
      "\u001b[0;31m---------------------------------------------------------------------------\u001b[0m",
      "\u001b[0;31mKeyboardInterrupt\u001b[0m                         Traceback (most recent call last)",
      "\u001b[1;32mUntitled-1\u001b[0m in \u001b[0;36mline 67\n\u001b[1;32m     <a href='untitled:Untitled-1?line=63'>64</a>\u001b[0m         \u001b[39mexcept\u001b[39;00m \u001b[39mException\u001b[39;00m \u001b[39mas\u001b[39;00m e:\n\u001b[1;32m     <a href='untitled:Untitled-1?line=64'>65</a>\u001b[0m             \u001b[39mprint\u001b[39m(\u001b[39mf\u001b[39m\u001b[39m\"\u001b[39m\u001b[39mAn error occurred: \u001b[39m\u001b[39m{\u001b[39;00m\u001b[39mstr\u001b[39m(e)\u001b[39m}\u001b[39;00m\u001b[39m\"\u001b[39m)\n\u001b[0;32m---> <a href='untitled:Untitled-1?line=66'>67</a>\u001b[0m record_order_book(market)\n",
      "\u001b[1;32mUntitled-1\u001b[0m in \u001b[0;36mline 62\u001b[0m, in \u001b[0;36mrecord_order_book\u001b[0;34m(market)\n\u001b[1;32m     <a href='untitled:Untitled-1?line=58'>59</a>\u001b[0m     \u001b[39melse\u001b[39;00m:\n\u001b[1;32m     <a href='untitled:Untitled-1?line=59'>60</a>\u001b[0m         order_book_data\u001b[39m.\u001b[39mto_excel(filename, index\u001b[39m=\u001b[39m\u001b[39mFalse\u001b[39;00m, header\u001b[39m=\u001b[39m\u001b[39mTrue\u001b[39;00m)\n\u001b[0;32m---> <a href='untitled:Untitled-1?line=61'>62</a>\u001b[0m     time\u001b[39m.\u001b[39msleep(\u001b[39m5\u001b[39m)\n\u001b[1;32m     <a href='untitled:Untitled-1?line=63'>64</a>\u001b[0m \u001b[39mexcept\u001b[39;00m \u001b[39mException\u001b[39;00m \u001b[39mas\u001b[39;00m e:\n\u001b[1;32m     <a href='untitled:Untitled-1?line=64'>65</a>\u001b[0m     \u001b[39mprint\u001b[39m(\u001b[39mf\u001b[39m\u001b[39m\"\u001b[39m\u001b[39mAn error occurred: \u001b[39m\u001b[39m{\u001b[39;00m\u001b[39mstr\u001b[39m(e)\u001b[39m}\u001b[39;00m\u001b[39m\"\u001b[39m)\n",
      "\u001b[0;31mKeyboardInterrupt\u001b[0m: "
     ]
    }
   ],
   "metadata": {}
  }
 ],
 "nbformat": 4,
 "nbformat_minor": 2,
 "metadata": {
  "language_info": {
   "codemirror_mode": {
    "name": "ipython",
    "version": 3
   },
   "file_extension": ".py",
   "mimetype": "text/x-python",
   "name": "python",
   "nbconvert_exporter": "python",
   "pygments_lexer": "ipython3",
   "version": 3
  },
  "orig_nbformat": 4
 }
}